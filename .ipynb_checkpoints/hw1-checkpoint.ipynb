{
 "cells": [
  {
   "cell_type": "code",
   "execution_count": 20,
   "id": "initial_id",
   "metadata": {
    "jupyter": {
     "is_executing": true
    }
   },
   "outputs": [
    {
     "name": "stdout",
     "output_type": "stream",
     "text": [
      "6.009999999999849\n",
      "-0.706517721919031\n",
      "2.858841954873883\n",
      "2.7319186557871245\n",
      "2.7196414225332255\n"
     ]
    }
   ],
   "source": [
    "import numpy as np\n",
    "\n",
    "# HW1, problem 1 (Forward Difference)\n",
    "\n",
    "# Define the function f(x)\n",
    "def f(x):\n",
    "    return x**2 + 2*x + 1\n",
    "\n",
    "# Define the forward difference formula\n",
    "def forward_difference(f, x, h):\n",
    "    return (f(x + h) - f(x)) / h\n",
    "\n",
    "# Given values\n",
    "x = 2\n",
    "h = 0.01\n",
    "\n",
    "# Compute the numerical derivative using forward difference\n",
    "f_prime_approx = forward_difference(f, x, h)\n",
    "\n",
    "# Display the result\n",
    "print (f_prime_approx)\n",
    "\n",
    "# Problem #2 (Center Difference)\n",
    "def g(x):\n",
    "    return np.sin(x)\n",
    "\n",
    "def center_diff(g, x, h):\n",
    "    return (g(x + h) - 2 * g(x) + g(x - h)) / h**2\n",
    "\n",
    "# Update values\n",
    "x = np.pi / 4\n",
    "h = 0.1\n",
    "\n",
    "# Compute with central\n",
    "g_central_approx = center_diff(g, x, h)\n",
    "\n",
    "print(g_central_approx)\n",
    "\n",
    "# Problem #3 (Error Analysis in Differentiation)\n",
    "# We know that the analytical derivate of e^x should be xe^x\n",
    "# evaluate given the following steps:\n",
    "\n",
    "# update x\n",
    "x = 1\n",
    "\n",
    "h1 = 0.1 \n",
    "h2 = 0.01\n",
    "h3 = 0.001\n",
    "\n",
    "def h(x):\n",
    "    return np.exp(x)\n",
    "\n",
    "print(forward_difference(h, x, h1))\n",
    "print(forward_difference(h, x, h2))\n",
    "print(forward_difference(h, x, h3))"
   ]
  },
  {
   "cell_type": "code",
   "execution_count": null,
   "id": "ca7ce53d-3649-4172-8a8e-76e6a980f771",
   "metadata": {},
   "outputs": [],
   "source": [
    "# Numerical Integration #"
   ]
  }
 ],
 "metadata": {
  "kernelspec": {
   "display_name": "Python 3 (ipykernel)",
   "language": "python",
   "name": "python3"
  },
  "language_info": {
   "codemirror_mode": {
    "name": "ipython",
    "version": 3
   },
   "file_extension": ".py",
   "mimetype": "text/x-python",
   "name": "python",
   "nbconvert_exporter": "python",
   "pygments_lexer": "ipython3",
   "version": "3.12.7"
  }
 },
 "nbformat": 4,
 "nbformat_minor": 5
}
