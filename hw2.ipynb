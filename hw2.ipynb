{
 "cells": [
  {
   "cell_type": "code",
   "execution_count": 1,
   "id": "initial_id",
   "metadata": {
    "ExecuteTime": {
     "end_time": "2025-01-30T23:17:39.123574Z",
     "start_time": "2025-01-30T23:17:39.109725Z"
    }
   },
   "outputs": [
    {
     "name": "stdout",
     "output_type": "stream",
     "text": [
      "Here are the orthogonalized vectors: \n",
      "         c1        c2        c3\n",
      "0  0.333333  0.666667  0.666667\n",
      "1 -0.666667 -0.333333  0.666667\n",
      "2  0.666667 -0.666667  0.333333\n"
     ]
    }
   ],
   "source": [
    "# HW2\n",
    "# 1. Anaconda is installed and been able to open / create Jupyter notebooks\n",
    "\n",
    "# 2. Gram-Schmidt Algorithm\n",
    "import numpy as np\n",
    "import pandas as pd\n",
    "\n",
    "def modified_gram_schmidt(V):\n",
    "    n, m = V.shape\n",
    "    Q = np.zeros((n, m))\n",
    "\n",
    "    for i in range(n):\n",
    "        # Start with the current vector\n",
    "        q = V[i, :]\n",
    "\n",
    "        # Subtract projections onto previous basis vectors\n",
    "        for j in range(i):\n",
    "            q -= np.dot(Q[j, :], V[i, :]) * Q[j, :]\n",
    "\n",
    "        # Normalize the vector\n",
    "        q = q / np.linalg.norm(q)\n",
    "\n",
    "        # Store in the orthonormal basis matrix\n",
    "        Q[i, :] = q\n",
    "\n",
    "    return Q\n",
    "\n",
    "# We are given the following matrix\n",
    "V = np.array(\n",
    "    [[1, 2, 2],\n",
    "     [-1, 0, 2],\n",
    "     [0, 0, 1]], dtype=float)\n",
    "\n",
    "# Orthogonalize vectors\n",
    "Q = modified_gram_schmidt(V)\n",
    "\n",
    "# Display the results\n",
    "df = pd.DataFrame(Q, columns=[\"c1\", \"c2\", \"c3\"])\n",
    "print(f\"Here are the orthogonalized vectors: \\n{df}\")"
   ]
  },
  {
   "cell_type": "code",
   "execution_count": 6,
   "id": "f69decb6166b64cd",
   "metadata": {
    "ExecuteTime": {
     "end_time": "2025-01-30T23:36:54.481503Z",
     "start_time": "2025-01-30T23:36:54.459345Z"
    }
   },
   "outputs": [
    {
     "name": "stdout",
     "output_type": "stream",
     "text": [
      "\n",
      "U Matrix (Left Singular Vectors):\n",
      "[[0. 1. 0. 0.]\n",
      " [1. 0. 0. 0.]\n",
      " [0. 0. 0. 1.]\n",
      " [0. 0. 1. 0.]]\n",
      "\n",
      "S Matrix (Singular Values):\n",
      "[[3.     0.     0.     0.     0.    ]\n",
      " [0.     2.2361 0.     0.     0.    ]\n",
      " [0.     0.     2.     0.     0.    ]\n",
      " [0.     0.     0.     0.     0.    ]]\n",
      "\n",
      "Vt Matrix (Right Singular Vectors Transposed):\n",
      "[[ 0.      0.      1.      0.      0.    ]\n",
      " [-0.4472  0.      0.      0.     -0.8944]\n",
      " [ 0.     -1.      0.      0.      0.    ]\n",
      " [ 0.      0.      0.      1.      0.    ]\n",
      " [-0.8944  0.      0.      0.      0.4472]]\n"
     ]
    }
   ],
   "source": [
    "# 3. Singular Value Decomposition (SVD)\n",
    "\n",
    "# Implementing Singular Value Decomposition (SVD) manually using NumPy (without numpy.linalg.svd)\n",
    "\n",
    "def svd_manual(A):\n",
    "    # Compute A^T A and A A^T\n",
    "    AtA = np.dot(A.T, A)  # using dot for matrix multipliation (n x n)\n",
    "    AAt = np.dot(A, A.T)  # using dot for matrix multipliation (m x m)\n",
    "\n",
    "    # Compute eigenvalues and eigenvectors\n",
    "    eigvals_AtA, V = np.linalg.eigh(AtA)  # Right singular vectors\n",
    "    eigvals_AAt, U = np.linalg.eigh(AAt)  # Left singular vectors\n",
    "\n",
    "    # Sort eigenvalues and eigenvectors in descending order\n",
    "    sorted_indices_AtA = np.argsort(eigvals_AtA)[::-1]\n",
    "    sorted_indices_AAt = np.argsort(eigvals_AAt)[::-1]\n",
    "\n",
    "    V = V[:, sorted_indices_AtA]\n",
    "    U = U[:, sorted_indices_AAt]\n",
    "\n",
    "    # Singular values (positive eigenvalues)\n",
    "    singular_values = np.sqrt(np.maximum(eigvals_AtA[sorted_indices_AtA], 0))\n",
    "\n",
    "    # Construct the S matrix (m x n) with singular values on the diagonal\n",
    "    S = np.zeros_like(A, dtype=float)\n",
    "    np.fill_diagonal(S, singular_values)\n",
    "\n",
    "    return U, S, V.T  #Transpose V back\n",
    "\n",
    "# Given matrix M\n",
    "M = np.array([\n",
    "    [1, 0, 0, 0, 2],\n",
    "    [0, 0, 3, 0, 0],\n",
    "    [0, 0, 0, 0, 0],\n",
    "    [0, 2, 0, 0, 0]\n",
    "], dtype=float)\n",
    "\n",
    "# Perform manual SVD\n",
    "U, S, Vt = svd_manual(M)\n",
    "\n",
    "# Function to display matrices\n",
    "def display_matrix(matrix, name=\"Matrix\"):\n",
    "    print(f\"\\n{name}:\")\n",
    "    print(np.array_str(matrix, precision=4, suppress_small=True))\n",
    "\n",
    "# Display the matrices\n",
    "display_matrix(U, \"U Matrix (Left Singular Vectors)\")\n",
    "display_matrix(S, \"S Matrix (Singular Values)\")\n",
    "display_matrix(Vt, \"Vt Matrix (Right Singular Vectors Transposed)\")"
   ]
  },
  {
   "cell_type": "code",
   "execution_count": 8,
   "id": "45dd46fce82d8501",
   "metadata": {
    "ExecuteTime": {
     "end_time": "2025-01-30T23:44:14.422979Z",
     "start_time": "2025-01-30T23:44:14.406777Z"
    }
   },
   "outputs": [
    {
     "name": "stdout",
     "output_type": "stream",
     "text": [
      "L2-norm of the given vector: 1.0707224707676244\n"
     ]
    }
   ],
   "source": [
    "# 4.L^2 norm of an Nth length vector\n",
    "\n",
    "def l2_norm(vector):\n",
    "    return np.sqrt(np.sum(vector**2))\n",
    "\n",
    "# Given vector:\n",
    "vector = np.array([\n",
    "    np.cos(np.pi / 4) * np.sin(np.pi / 8),\n",
    "    np.sin(np.pi / 4) * np.sin(np.pi / 8),\n",
    "    np.sin(np.pi / 4) * np.sin(np.pi / 8),\n",
    "    np.sin(np.pi / 4) * np.sin(np.pi / 8),\n",
    "    np.cos(np.pi / 8)\n",
    "], dtype=float)\n",
    "\n",
    "# Compute the L2-norm of the vector\n",
    "vector_l2_norm = l2_norm(vector)\n",
    "\n",
    "# Display the result\n",
    "print(f\"L2-norm of the given vector: {vector_l2_norm}\")\n"
   ]
  },
  {
   "cell_type": "code",
   "execution_count": null,
   "id": "95192c31-1532-4562-aff8-cbc1077c6688",
   "metadata": {},
   "outputs": [],
   "source": []
  }
 ],
 "metadata": {
  "kernelspec": {
   "display_name": "Python 3 (ipykernel)",
   "language": "python",
   "name": "python3"
  },
  "language_info": {
   "codemirror_mode": {
    "name": "ipython",
    "version": 3
   },
   "file_extension": ".py",
   "mimetype": "text/x-python",
   "name": "python",
   "nbconvert_exporter": "python",
   "pygments_lexer": "ipython3",
   "version": "3.12.7"
  }
 },
 "nbformat": 4,
 "nbformat_minor": 5
}
