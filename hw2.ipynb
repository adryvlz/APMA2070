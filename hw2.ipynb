{
 "cells": [
  {
   "cell_type": "code",
   "id": "initial_id",
   "metadata": {
    "collapsed": true,
    "ExecuteTime": {
     "end_time": "2025-01-30T23:17:39.123574Z",
     "start_time": "2025-01-30T23:17:39.109725Z"
    }
   },
   "source": [
    "# HW2\n",
    "# 1. Anaconda is installed and been able to open / create Jupyter notebooks\n",
    "\n",
    "# 2. Gram-Schmidt Algorithm\n",
    "import numpy as np\n",
    "import pandas as pd\n",
    "\n",
    "def modified_gram_schmidt(V):\n",
    "    n, m = V.shape\n",
    "    Q = np.zeros((n, m))\n",
    "\n",
    "    for i in range(n):\n",
    "        # Start with the current vector\n",
    "        q = V[i, :]\n",
    "\n",
    "        # Subtract projections onto previous basis vectors\n",
    "        for j in range(i):\n",
    "            q -= np.dot(Q[j, :], V[i, :]) * Q[j, :]\n",
    "\n",
    "        # Normalize the vector\n",
    "        q = q / np.linalg.norm(q)\n",
    "\n",
    "        # Store in the orthonormal basis matrix\n",
    "        Q[i, :] = q\n",
    "\n",
    "    return Q\n",
    "\n",
    "# We are given the following vectors\n",
    "V = np.array(\n",
    "    [[1, 2, 2],\n",
    "     [-1, 0, 2],\n",
    "     [0, 0, 1]], dtype=float)\n",
    "\n",
    "# Orthogonalize vectors\n",
    "Q = modified_gram_schmidt(V)\n",
    "\n",
    "# Display the results\n",
    "df = pd.DataFrame(Q, columns=[\"c1\", \"c2\", \"c3\"])\n",
    "print(f\"Here are the orthogonalized vectors: \\n{df}\")"
   ],
   "outputs": [
    {
     "name": "stdout",
     "output_type": "stream",
     "text": [
      "Here are the orthogonalized vectors: \n",
      "         c1        c2        c3\n",
      "0  0.333333  0.666667  0.666667\n",
      "1 -0.666667 -0.333333  0.666667\n",
      "2  0.666667 -0.666667  0.333333\n"
     ]
    }
   ],
   "execution_count": 12
  },
  {
   "metadata": {
    "ExecuteTime": {
     "end_time": "2025-01-30T23:36:54.481503Z",
     "start_time": "2025-01-30T23:36:54.459345Z"
    }
   },
   "cell_type": "code",
   "source": [
    "# 3. Singular Value Decomposition (SVD)\n",
    "\n",
    "# Implementing Singular Value Decomposition (SVD) manually using NumPy (without numpy.linalg.svd)\n",
    "\n",
    "def svd_manual(A):\n",
    "    # Compute A^T A and A A^T\n",
    "    AtA = np.dot(A.T, A)  # (n x n)\n",
    "    AAt = np.dot(A, A.T)  # (m x m)\n",
    "\n",
    "    # Compute eigenvalues and eigenvectors\n",
    "    eigvals_AtA, V = np.linalg.eigh(AtA)  # Right singular vectors\n",
    "    eigvals_AAt, U = np.linalg.eigh(AAt)  # Left singular vectors\n",
    "\n",
    "    # Sort eigenvalues and eigenvectors in descending order\n",
    "    sorted_indices_AtA = np.argsort(eigvals_AtA)[::-1]\n",
    "    sorted_indices_AAt = np.argsort(eigvals_AAt)[::-1]\n",
    "\n",
    "    V = V[:, sorted_indices_AtA]\n",
    "    U = U[:, sorted_indices_AAt]\n",
    "\n",
    "    # Singular values (square root of non-negative eigenvalues)\n",
    "    singular_values = np.sqrt(np.maximum(eigvals_AtA[sorted_indices_AtA], 0))\n",
    "\n",
    "    # Construct the S matrix (m x n) with singular values on the diagonal\n",
    "    S = np.zeros_like(A, dtype=float)\n",
    "    np.fill_diagonal(S, singular_values)\n",
    "\n",
    "    return U, S, V.T  # V needs to be transposed\n",
    "\n",
    "# Define the given matrix M\n",
    "M = np.array([\n",
    "    [1, 0, 0, 0, 2],\n",
    "    [0, 0, 3, 0, 0],\n",
    "    [0, 0, 0, 0, 0],\n",
    "    [0, 2, 0, 0, 0]\n",
    "], dtype=float)\n",
    "\n",
    "# Perform manual SVD\n",
    "U, S, Vt = svd_manual(M)\n",
    "\n",
    "# Display results\n",
    "df_U = pd.DataFrame(U, columns=[f\"U{i+1}\" for i in range(U.shape[1])])\n",
    "df_S = pd.DataFrame(S)\n",
    "df_Vt = pd.DataFrame(Vt, columns=[f\"Vt{i+1}\" for i in range(Vt.shape[1])])\n",
    "\n",
    "# Print U matrix\n",
    "print(\"U Matrix (Left Singular Vectors):\")\n",
    "print(pd.DataFrame(U, columns=[f\"U{i+1}\" for i in range(U.shape[1])]))\n",
    "print(\"\\n\")\n",
    "\n",
    "# Print S matrix\n",
    "print(\"S Matrix (Singular Values):\")\n",
    "print(pd.DataFrame(S))\n",
    "print(\"\\n\")\n",
    "\n",
    "# Print Vt matrix\n",
    "print(\"Vt Matrix (Right Singular Vectors Transposed):\")\n",
    "print(pd.DataFrame(Vt, columns=[f\"Vt{i+1}\" for i in range(Vt.shape[1])]))"
   ],
   "id": "f69decb6166b64cd",
   "outputs": [
    {
     "name": "stdout",
     "output_type": "stream",
     "text": [
      "U Matrix (Left Singular Vectors):\n",
      "    U1   U2   U3   U4\n",
      "0  0.0  1.0  0.0  0.0\n",
      "1  1.0  0.0  0.0  0.0\n",
      "2  0.0  0.0  0.0  1.0\n",
      "3  0.0  0.0  1.0  0.0\n",
      "\n",
      "\n",
      "S Matrix (Singular Values):\n",
      "     0         1    2    3    4\n",
      "0  3.0  0.000000  0.0  0.0  0.0\n",
      "1  0.0  2.236068  0.0  0.0  0.0\n",
      "2  0.0  0.000000  2.0  0.0  0.0\n",
      "3  0.0  0.000000  0.0  0.0  0.0\n",
      "\n",
      "\n",
      "Vt Matrix (Right Singular Vectors Transposed):\n",
      "        Vt1  Vt2  Vt3  Vt4       Vt5\n",
      "0  0.000000  0.0  1.0  0.0  0.000000\n",
      "1 -0.447214  0.0  0.0  0.0 -0.894427\n",
      "2  0.000000 -1.0  0.0  0.0  0.000000\n",
      "3  0.000000  0.0  0.0  1.0  0.000000\n",
      "4 -0.894427  0.0  0.0  0.0  0.447214\n"
     ]
    }
   ],
   "execution_count": 18
  },
  {
   "metadata": {
    "ExecuteTime": {
     "end_time": "2025-01-30T23:44:14.422979Z",
     "start_time": "2025-01-30T23:44:14.406777Z"
    }
   },
   "cell_type": "code",
   "source": [
    "# 4.L^2 norm of an Nth length vector\n",
    "\n",
    "def l2_norm(vector):\n",
    "    return np.sqrt(np.sum(vector**2))\n",
    "\n",
    "# Define the given vector using the mathematical expressions\n",
    "vector = np.array([\n",
    "    np.cos(np.pi / 4) * np.sin(np.pi / 8),\n",
    "    np.sin(np.pi / 4) * np.sin(np.pi / 8),\n",
    "    np.sin(np.pi / 4) * np.sin(np.pi / 8),\n",
    "    np.sin(np.pi / 4) * np.sin(np.pi / 8),\n",
    "    np.cos(np.pi / 8)\n",
    "], dtype=float)\n",
    "\n",
    "# Compute the L2-norm of the vector\n",
    "vector_l2_norm = l2_norm(vector)\n",
    "\n",
    "# Display the result\n",
    "print(f\"L2-norm of the given vector: {vector_l2_norm}\")\n"
   ],
   "id": "45dd46fce82d8501",
   "outputs": [
    {
     "name": "stdout",
     "output_type": "stream",
     "text": [
      "L2-norm of the given vector: 1.0707224707676244\n"
     ]
    }
   ],
   "execution_count": 19
  },
  {
   "metadata": {},
   "cell_type": "code",
   "outputs": [],
   "execution_count": null,
   "source": "",
   "id": "a2d23be43c3caa95"
  }
 ],
 "metadata": {
  "kernelspec": {
   "display_name": "Python 3",
   "language": "python",
   "name": "python3"
  },
  "language_info": {
   "codemirror_mode": {
    "name": "ipython",
    "version": 2
   },
   "file_extension": ".py",
   "mimetype": "text/x-python",
   "name": "python",
   "nbconvert_exporter": "python",
   "pygments_lexer": "ipython2",
   "version": "2.7.6"
  }
 },
 "nbformat": 4,
 "nbformat_minor": 5
}
