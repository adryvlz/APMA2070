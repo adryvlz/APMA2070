{
 "cells": [
  {
   "cell_type": "code",
   "execution_count": 5,
   "id": "initial_id",
   "metadata": {
    "ExecuteTime": {
     "end_time": "2025-01-29T21:40:19.326461Z",
     "start_time": "2025-01-29T21:40:19.311674Z"
    }
   },
   "outputs": [
    {
     "name": "stdout",
     "output_type": "stream",
     "text": [
      "The first derivative approximation using forward difference is: 6.009999999999849\n",
      "The second derivative approximation using central difference is: -0.706517721919031\n",
      "These are the forward difference approximations using step sizes of 0.1, 0.01, and 0.001 respectively:\n",
      "2.858841954873883\n",
      "2.7319186557871245\n",
      "2.7196414225332255\n"
     ]
    }
   ],
   "source": [
    "import numpy as np\n",
    "from scipy.integrate import simpson, trapezoid #used in second part\n",
    "\n",
    "# HW1: Numerical Differentiaation \n",
    "# 1. Forward Difference\n",
    "\n",
    "# Define the function f(x)\n",
    "def f(x):\n",
    "    return x**2 + 2*x + 1\n",
    "\n",
    "# Define the forward difference formula\n",
    "def forward_difference(f, x, h):\n",
    "    return (f(x + h) - f(x)) / h\n",
    "\n",
    "# Given values\n",
    "x = 2\n",
    "h = 0.01\n",
    "\n",
    "# Compute the numerical derivative using forward difference\n",
    "f_prime_approx = forward_difference(f, x, h)\n",
    "\n",
    "# Display the result\n",
    "print (\"The first derivative approximation using forward difference is:\", f_prime_approx)\n",
    "\n",
    "# 2. Center Difference\n",
    "def g(x):\n",
    "    return np.sin(x)\n",
    "\n",
    "def center_diff(g, x, h):\n",
    "    return (g(x + h) - 2 * g(x) + g(x - h)) / h**2\n",
    "\n",
    "# Update values\n",
    "x = np.pi / 4\n",
    "h = 0.1\n",
    "\n",
    "# Compute with central\n",
    "g_central_approx = center_diff(g, x, h)\n",
    "\n",
    "# Display the result\n",
    "print(\"The second derivative approximation using central difference is:\", g_central_approx)\n",
    "\n",
    "# 3.Error Analysis in Differentiation\n",
    "# We know that the analytical derivate of e^x should be e^x, but the numerical approximation using the forward difference method\n",
    "# is different as we will see.\n",
    "\n",
    "# update x\n",
    "x = 1\n",
    "\n",
    "# evaluate given the following steps:\n",
    "h1 = 0.1 \n",
    "h2 = 0.01\n",
    "h3 = 0.001\n",
    "\n",
    "def h(x):\n",
    "    return np.exp(x)\n",
    "\n",
    "print(\"These are the forward difference approximations using step sizes of 0.1, 0.01, and 0.001 respectively:\")\n",
    "print(forward_difference(h, x, h1))\n",
    "print(forward_difference(h, x, h2))\n",
    "print(forward_difference(h, x, h3))\n",
    "\n",
    "# As seen, the difference compared to the analytical value of 2.71828182846 becomes closer as we decrease step size.\n",
    "# This makes sence since the analytical value has a step size of h = 0, but in numerically we cannot divide by zero.\n",
    "# Therefore, the approximation will always be slightly off even when we have a minial h, but it will get closer to its actual value."
   ]
  },
  {
   "cell_type": "code",
   "execution_count": 18,
   "id": "ca7ce53d-3649-4172-8a8e-76e6a980f771",
   "metadata": {
    "ExecuteTime": {
     "end_time": "2025-01-29T21:39:48.538187Z",
     "start_time": "2025-01-29T21:39:48.507420Z"
    }
   },
   "outputs": [
    {
     "name": "stdout",
     "output_type": "stream",
     "text": [
      "Using the trapezoidal rule with the given parameters, we find the approximation to be: 3.796875\n",
      "Using the Simpson's 1/3 rule with the given parameters, we find the approximation to be: 4.66656305322249\n",
      "However, the exact integral is: 4.666666666666666, meaning there's a difference of 0.00010361344417564311\n",
      "\n",
      "Using the trapezoidal rule with the given parameters, we find the approximation of function h(x) to be: 0.38369950940944236\n",
      "While the Simpson's rule yields: 0.38625956281456697\n",
      "This results in a difference in approximations of: 0.002560053405124607\n",
      "\n"
     ]
    }
   ],
   "source": [
    "# Numerical Integration #\n",
    "\n",
    "# 1. Trapezoidal Rule for f(x) = x^3 from x = 1 to x = 2 with 4 subdivisions\n",
    "def f(x):\n",
    "    return x**3\n",
    "\n",
    "a, b = 1, 2\n",
    "n = 4  # Subdivisions\n",
    "x_vals = np.linspace(a, b, n + 1)\n",
    "y_vals = f(x_vals)\n",
    "trapezoidal_f = trapezoid(y_vals, x=x_vals)\n",
    "\n",
    "print(f\"Using the trapezoidal rule with the given parameters, we find the approximation to be: {trapezoidal_f}\")\n",
    "\n",
    "# 2. Simpson’s 1/3 Rule for g(x) = sqrt(x) from x = 1 to x = 4 with 6 subdivisions\n",
    "def g(x):\n",
    "    return np.sqrt(x)\n",
    "\n",
    "a, b = 1, 4\n",
    "n = 6  # Must be even for Simpson’s Rule\n",
    "x_vals = np.linspace(a, b, n + 1)\n",
    "y_vals = g(x_vals)\n",
    "simpsons_g = simpson(y_vals, x=x_vals)\n",
    "\n",
    "print(f\"Using the Simpson's 1/3 rule with the given parameters, we find the approximation to be: {simpsons_g}\")\n",
    "\n",
    "# Exact integral of g(x) = sqrt(x) from 1 to 4: (2/3) * x^(3/2) evaluated at limits\n",
    "exact_integral_g = (2/3) * (4**(3/2) - 1**(3/2))\n",
    "\n",
    "print(f\"However, the exact integral is: {exact_integral_g}, meaning there's a difference of {exact_integral_g - simpsons_g}\")\n",
    "\n",
    "# 3. Integrating h(x) = ln(x) from x = 1 to x = 2 using both methods with 4 subdivisions\n",
    "def h(x):\n",
    "    return np.log(x)\n",
    "\n",
    "a, b = 1, 2\n",
    "n = 4  #Subdivisions\n",
    "x_vals = np.linspace(a, b, n + 1)\n",
    "y_vals = h(x_vals)\n",
    "trapezoidal_h = trapezoid(y_vals, x=x_vals)\n",
    "simpsons_h = simpson(y_vals, x=x_vals)\n",
    "\n",
    "print(f\"\"\"\n",
    "Using the trapezoidal rule with the given parameters, we find the approximation of function h(x) to be: {trapezoidal_h}\n",
    "While the Simpson's rule yields: {simpsons_h}\n",
    "This results in a difference in approximations of: {simpsons_h - trapezoidal_h}\n",
    "\"\"\")\n"
   ]
  },
  {
   "cell_type": "code",
   "execution_count": null,
   "id": "5c967aa5-05f4-476e-84ad-46c6dc77db40",
   "metadata": {},
   "outputs": [],
   "source": []
  }
 ],
 "metadata": {
  "kernelspec": {
   "display_name": "Python 3 (ipykernel)",
   "language": "python",
   "name": "python3"
  },
  "language_info": {
   "codemirror_mode": {
    "name": "ipython",
    "version": 3
   },
   "file_extension": ".py",
   "mimetype": "text/x-python",
   "name": "python",
   "nbconvert_exporter": "python",
   "pygments_lexer": "ipython3",
   "version": "3.12.7"
  }
 },
 "nbformat": 4,
 "nbformat_minor": 5
}
