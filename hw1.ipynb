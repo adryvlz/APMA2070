{
 "cells": [
  {
   "cell_type": "code",
   "id": "initial_id",
   "metadata": {
    "ExecuteTime": {
     "end_time": "2025-01-29T21:40:19.326461Z",
     "start_time": "2025-01-29T21:40:19.311674Z"
    }
   },
   "source": [
    "import numpy as np\n",
    "from scipy.integrate import simpson, trapezoid\n",
    "\n",
    "# HW1, problem 1 (Forward Difference)\n",
    "\n",
    "# Define the function f(x)\n",
    "def f(x):\n",
    "    return x**2 + 2*x + 1\n",
    "\n",
    "# Define the forward difference formula\n",
    "def forward_difference(f, x, h):\n",
    "    return (f(x + h) - f(x)) / h\n",
    "\n",
    "# Given values\n",
    "x = 2\n",
    "h = 0.01\n",
    "\n",
    "# Compute the numerical derivative using forward difference\n",
    "f_prime_approx = forward_difference(f, x, h)\n",
    "\n",
    "# Display the result\n",
    "print (f_prime_approx)\n",
    "\n",
    "# Problem #2 (Center Difference)\n",
    "def g(x):\n",
    "    return np.sin(x)\n",
    "\n",
    "def center_diff(g, x, h):\n",
    "    return (g(x + h) - 2 * g(x) + g(x - h)) / h**2\n",
    "\n",
    "# Update values\n",
    "x = np.pi / 4\n",
    "h = 0.1\n",
    "\n",
    "# Compute with central\n",
    "g_central_approx = center_diff(g, x, h)\n",
    "\n",
    "print(g_central_approx)\n",
    "\n",
    "# Problem #3 (Error Analysis in Differentiation)\n",
    "# We know that the analytical derivate of e^x should be xe^x\n",
    "# evaluate given the following steps:\n",
    "\n",
    "# update x\n",
    "x = 1\n",
    "\n",
    "h1 = 0.1 \n",
    "h2 = 0.01\n",
    "h3 = 0.001\n",
    "\n",
    "def h(x):\n",
    "    return np.exp(x)\n",
    "\n",
    "print(forward_difference(h, x, h1))\n",
    "print(forward_difference(h, x, h2))\n",
    "print(forward_difference(h, x, h3))\n",
    "\n",
    "# as seen, the difference compared to the analytical value of 2.71828182846 becomes closer as we decrease step size."
   ],
   "outputs": [
    {
     "name": "stdout",
     "output_type": "stream",
     "text": [
      "6.009999999999849\n",
      "-0.706517721919031\n",
      "2.858841954873883\n",
      "2.7319186557871245\n",
      "2.7196414225332255\n"
     ]
    }
   ],
   "execution_count": 55
  },
  {
   "cell_type": "code",
   "id": "ca7ce53d-3649-4172-8a8e-76e6a980f771",
   "metadata": {
    "ExecuteTime": {
     "end_time": "2025-01-29T21:39:48.538187Z",
     "start_time": "2025-01-29T21:39:48.507420Z"
    }
   },
   "source": [
    "# Numerical Integration #\n",
    "\n",
    "# 1. Trapezoidal Rule for f(x) = x^3 from x = 1 to x = 2 with 4 subdivisions\n",
    "def f(x):\n",
    "    return x**3\n",
    "\n",
    "a, b = 1, 2\n",
    "n = 4  # Number of subdivisions\n",
    "x_vals = np.linspace(a, b, n + 1)\n",
    "y_vals = f(x_vals)\n",
    "trapezoidal_f = trapezoid(y_vals, x=x_vals)  # Fixed x argument\n",
    "\n",
    "# 2. Simpson’s 1/3 Rule for g(x) = sqrt(x) from x = 1 to x = 4 with 6 subdivisions\n",
    "def g(x):\n",
    "    return np.sqrt(x)\n",
    "\n",
    "a, b = 1, 4\n",
    "n = 6  # Must be even for Simpson’s Rule\n",
    "x_vals = np.linspace(a, b, n + 1)\n",
    "y_vals = g(x_vals)\n",
    "simpsons_g = simpson(y_vals, x=x_vals)  # Fixed x argument\n",
    "\n",
    "# Exact integral of g(x) = sqrt(x) from 1 to 4: (2/3) * x^(3/2) evaluated at limits\n",
    "exact_integral_g = (2/3) * (4**(3/2) - 1**(3/2))\n",
    "\n",
    "# 3. Integrating h(x) = ln(x) from x = 1 to x = 2 using both methods with 4 subdivisions\n",
    "def h(x):\n",
    "    return np.log(x)\n",
    "\n",
    "a, b = 1, 2\n",
    "n = 4  # Number of subdivisions\n",
    "x_vals = np.linspace(a, b, n + 1)\n",
    "y_vals = h(x_vals)\n",
    "trapezoidal_h = trapezoid(y_vals, x=x_vals)  # Fixed x argument\n",
    "simpsons_h = simpson(y_vals, x=x_vals)  # Fixed x argument\n",
    "\n",
    "# Display results\n",
    "trapezoidal_f, simpsons_g, exact_integral_g, trapezoidal_h, simpsons_h\n"
   ],
   "outputs": [
    {
     "data": {
      "text/plain": [
       "(3.796875,\n",
       " 4.66656305322249,\n",
       " 4.666666666666666,\n",
       " 0.38369950940944236,\n",
       " 0.38625956281456697)"
      ]
     },
     "execution_count": 54,
     "metadata": {},
     "output_type": "execute_result"
    }
   ],
   "execution_count": 54
  },
  {
   "metadata": {},
   "cell_type": "code",
   "outputs": [],
   "execution_count": null,
   "source": "",
   "id": "11ec3dd951d0c839"
  }
 ],
 "metadata": {
  "kernelspec": {
   "display_name": "Python 3 (ipykernel)",
   "language": "python",
   "name": "python3"
  },
  "language_info": {
   "codemirror_mode": {
    "name": "ipython",
    "version": 3
   },
   "file_extension": ".py",
   "mimetype": "text/x-python",
   "name": "python",
   "nbconvert_exporter": "python",
   "pygments_lexer": "ipython3",
   "version": "3.12.7"
  }
 },
 "nbformat": 4,
 "nbformat_minor": 5
}
